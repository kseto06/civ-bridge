{
  "nbformat": 4,
  "nbformat_minor": 0,
  "metadata": {
    "colab": {
      "provenance": []
    },
    "kernelspec": {
      "name": "python3",
      "display_name": "Python 3"
    },
    "language_info": {
      "name": "python"
    }
  },
  "cells": [
    {
      "cell_type": "code",
      "execution_count": null,
      "metadata": {
        "colab": {
          "base_uri": "https://localhost:8080/"
        },
        "id": "VmOvgwOBZJID",
        "outputId": "e4740554-d121-45aa-f5f4-fe47a6815195"
      },
      "outputs": [
        {
          "output_type": "stream",
          "name": "stdout",
          "text": [
            "Requirement already satisfied: scipy in /usr/local/lib/python3.10/dist-packages (1.13.1)\n",
            "Requirement already satisfied: numpy<2.3,>=1.22.4 in /usr/local/lib/python3.10/dist-packages (from scipy) (1.26.4)\n"
          ]
        }
      ],
      "source": [
        "# Import scipy optimize\n",
        "!pip install scipy\n",
        "from scipy.optimize import minimize"
      ]
    },
    {
      "cell_type": "code",
      "source": [
        "import numpy as np\n",
        "import matplotlib.pyplot as plt\n",
        "from mpl_toolkits.mplot3d import Axes3D"
      ],
      "metadata": {
        "id": "0jgeRffDkqRc"
      },
      "execution_count": null,
      "outputs": []
    },
    {
      "cell_type": "markdown",
      "source": [
        "## Define Flexural Stress"
      ],
      "metadata": {
        "id": "ANhpdGYs-3A0"
      }
    },
    {
      "cell_type": "code",
      "source": [
        "def flex_stress(param, M): # NOTE: Append y_bar and I to param?\n",
        "  A = np.array([param[0]*param[1], param[2]*param[3], param[2]*param[3], param[4]*param[5], param[4]*param[5], param[6]*param[7]])\n",
        "  centroids = np.array([param[5]+param[7]+param[1]/2, param[5]+param[7]-param[3]/2, param[5]+param[7]-param[3]/2, param[7] + param[5]/2, param[7] + param[5]/2, param[7]/2])\n",
        "  y_bar = np.sum(A * centroids) / np.sum(A)\n",
        "  I = (param[0] * param[1]**3)/12 + 2 * (param[2] * param[3]**3)/12 + 2*(param[4] * param[5]**3)/12 + (param[6] * param[7]**3)/12 + np.sum(A * (y_bar - centroids)**2)\n",
        "\n",
        "  return M*(param[7] * param[5] * param[1] - y_bar) / I"
      ],
      "metadata": {
        "id": "m355EEif-3Gy"
      },
      "execution_count": null,
      "outputs": []
    },
    {
      "cell_type": "code",
      "source": [
        "def minimize_flex_stress(param, M):\n",
        "  return flex_stress(param, M)"
      ],
      "metadata": {
        "id": "whzbwEqh-8tE"
      },
      "execution_count": null,
      "outputs": []
    },
    {
      "cell_type": "markdown",
      "source": [
        "#### Define Known Parameters\n",
        "\n",
        "NOTE: Dimensions are 32” × 40” × 0.05” (813 mm × 1016 mm × 1.27 mm)\n",
        "- For better results, set correct bounds to the parameters."
      ],
      "metadata": {
        "id": "3UvJHd3iaLqn"
      }
    },
    {
      "cell_type": "code",
      "source": [
        "# Define bounds of the parameters (1016)\n",
        "num_shapes = 6\n",
        "bounds = [(1.27, None), (1.27, 1.27), (1.27, 5),\n",
        "          (1.27, 5), (1.27, 5), (1.27, None),\n",
        "          (1.27, None), (1.27, 1.27)]\n",
        "\n",
        "# Initial guess [[b], [h]] -- using the cross-section in Design 0\n",
        "param = np.array([100, 1.27, 5, 1.27, 1.27, 73.73, 80, 1.27])\n",
        "\n",
        "A = np.array([param[0]*param[1], param[2]*param[3], param[2]*param[3], param[4]*param[5], param[4]*param[5], param[6]*param[7]])\n",
        "centroids = np.array([param[5]+param[7]+param[1]/2, param[5]+param[7]-param[3]/2, param[5]+param[7]-param[3]/2, param[7] + param[5]/2, param[7] + param[5]/2, param[7]/2])\n",
        "y_bar = np.sum(A * centroids) / np.sum(A)\n",
        "I = (param[0] * param[1]**3)/12 + 2 * (param[2] * param[3]**3)/12 + 2*(param[4] * param[5]**3)/12 + (param[6] * param[7]**3)/12 + np.sum(A * (y_bar - centroids)**2)\n",
        "\n",
        "print(f'Initial y_bar: {y_bar}')\n",
        "print(f'Initial I: {I}')\n",
        "\n",
        "# Constraints dict\n",
        "def area_constraint(A: np.ndarray) -> float:\n",
        "  A_of_board = 1016 - np.sum(A)\n",
        "\n",
        "def base_constraint(param, i):\n",
        "    # Ensure width of shape i is within bounds, for example, 1.27 <= b_i <= 813\n",
        "    return param[i] - 1.27\n",
        "\n",
        "def height_constraint(param, i):\n",
        "    # Ensure height of shape i is within bounds, for example, 1.27 <= h_i <= 1016\n",
        "    return param[i] - 1.27\n",
        "\n",
        "def constraints(param):\n",
        "  constraints = []\n",
        "  for i in range(len(param)):\n",
        "    if i % 2 == 0: # Base\n",
        "      constraints.append({'type': 'ineq', 'fun': lambda param: base_constraint(param, i)})\n",
        "      constraints.append({'type': 'ineq', 'fun': lambda param, i=i: 813 - param[i]})  # Ensure param[i] <= 813\n",
        "    else: # Height\n",
        "      constraints.append({'type': 'ineq', 'fun': lambda param: height_constraint(param, i)})\n",
        "      constraints.append({'type': 'ineq', 'fun': lambda param, i=i: 1016 - param[i]})  # Ensure param[i] <= 1016\n",
        "\n",
        "  return constraints\n",
        "\n",
        "cons = constraints(param)\n",
        "\n",
        "# Given max bending moment -- calculated in Design 0\n",
        "M = 76.6e3\n",
        "\n",
        "# Minimize\n",
        "min = minimize(minimize_flex_stress, param, args=(M,), bounds=bounds, constraints=cons)\n",
        "\n",
        "# Optimal parameters\n",
        "print(f'Optimal: {min.x}')"
      ],
      "metadata": {
        "colab": {
          "base_uri": "https://localhost:8080/"
        },
        "id": "FlcOgNGRahYB",
        "outputId": "e8d41dea-93c8-4d84-a0a1-eab11fd88435"
      },
      "execution_count": null,
      "outputs": [
        {
          "output_type": "stream",
          "name": "stdout",
          "text": [
            "Initial y_bar: 41.43109435192319\n",
            "Initial I: 418352.2089994236\n",
            "Optimal: [ 240.68413539    1.27          5.            5.            5.\n",
            " 1016.          190.59137761    1.27      ]\n"
          ]
        }
      ]
    },
    {
      "cell_type": "code",
      "source": [
        "import numpy as np\n",
        "\n",
        "arr = np.array([ [1, 0], [0, 1], [0, -1] ])\n",
        "print(arr.T)"
      ],
      "metadata": {
        "colab": {
          "base_uri": "https://localhost:8080/"
        },
        "id": "nESTqZmZfNxz",
        "outputId": "706d24bd-ef65-458e-cd78-c36d9daf9107"
      },
      "execution_count": null,
      "outputs": [
        {
          "output_type": "stream",
          "name": "stdout",
          "text": [
            "[[ 1  0  0]\n",
            " [ 0  1 -1]]\n"
          ]
        }
      ]
    }
  ]
}